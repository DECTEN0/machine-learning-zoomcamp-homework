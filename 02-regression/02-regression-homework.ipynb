{
 "cells": [
  {
   "cell_type": "markdown",
   "id": "77e3ce71-0c5c-47ab-9a04-f09370302b02",
   "metadata": {},
   "source": [
    "### Dataset\n",
    "\n",
    "For this homework, we'll use the Car Fuel Efficiency dataset. Download it from <a href='https://raw.githubusercontent.com/alexeygrigorev/datasets/master/car_fuel_efficiency.csv'>here</a>."
   ]
  },
  {
   "cell_type": "code",
   "execution_count": 1,
   "id": "0813776e-84bd-41cf-8fdd-9bbc15325453",
   "metadata": {},
   "outputs": [],
   "source": [
    "#Imports\n",
    "import pandas as pd\n",
    "import numpy as np\n",
    "import seaborn as sns\n",
    "from matplotlib import pyplot as plt\n",
    "%matplotlib inline"
   ]
  },
  {
   "cell_type": "code",
   "execution_count": 61,
   "id": "10868c21-55ba-4b9d-9a54-c3c785beeb72",
   "metadata": {},
   "outputs": [
    {
     "data": {
      "text/plain": [
       "9704"
      ]
     },
     "execution_count": 61,
     "metadata": {},
     "output_type": "execute_result"
    }
   ],
   "source": [
    "#Load dataset\n",
    "data = pd.read_csv(\"https://raw.githubusercontent.com/alexeygrigorev/datasets/master/car_fuel_efficiency.csv\")\n",
    "len(data)"
   ]
  },
  {
   "cell_type": "code",
   "execution_count": 62,
   "id": "f8dfedf4-5b4c-4c7d-969b-d95befc8db69",
   "metadata": {},
   "outputs": [
    {
     "data": {
      "text/html": [
       "<div>\n",
       "<style scoped>\n",
       "    .dataframe tbody tr th:only-of-type {\n",
       "        vertical-align: middle;\n",
       "    }\n",
       "\n",
       "    .dataframe tbody tr th {\n",
       "        vertical-align: top;\n",
       "    }\n",
       "\n",
       "    .dataframe thead th {\n",
       "        text-align: right;\n",
       "    }\n",
       "</style>\n",
       "<table border=\"1\" class=\"dataframe\">\n",
       "  <thead>\n",
       "    <tr style=\"text-align: right;\">\n",
       "      <th></th>\n",
       "      <th>engine_displacement</th>\n",
       "      <th>num_cylinders</th>\n",
       "      <th>horsepower</th>\n",
       "      <th>vehicle_weight</th>\n",
       "      <th>acceleration</th>\n",
       "      <th>model_year</th>\n",
       "      <th>origin</th>\n",
       "      <th>fuel_type</th>\n",
       "      <th>drivetrain</th>\n",
       "      <th>num_doors</th>\n",
       "      <th>fuel_efficiency_mpg</th>\n",
       "    </tr>\n",
       "  </thead>\n",
       "  <tbody>\n",
       "    <tr>\n",
       "      <th>0</th>\n",
       "      <td>170</td>\n",
       "      <td>3.0</td>\n",
       "      <td>159.0</td>\n",
       "      <td>3413.433759</td>\n",
       "      <td>17.7</td>\n",
       "      <td>2003</td>\n",
       "      <td>Europe</td>\n",
       "      <td>Gasoline</td>\n",
       "      <td>All-wheel drive</td>\n",
       "      <td>0.0</td>\n",
       "      <td>13.231729</td>\n",
       "    </tr>\n",
       "    <tr>\n",
       "      <th>1</th>\n",
       "      <td>130</td>\n",
       "      <td>5.0</td>\n",
       "      <td>97.0</td>\n",
       "      <td>3149.664934</td>\n",
       "      <td>17.8</td>\n",
       "      <td>2007</td>\n",
       "      <td>USA</td>\n",
       "      <td>Gasoline</td>\n",
       "      <td>Front-wheel drive</td>\n",
       "      <td>0.0</td>\n",
       "      <td>13.688217</td>\n",
       "    </tr>\n",
       "    <tr>\n",
       "      <th>2</th>\n",
       "      <td>170</td>\n",
       "      <td>NaN</td>\n",
       "      <td>78.0</td>\n",
       "      <td>3079.038997</td>\n",
       "      <td>15.1</td>\n",
       "      <td>2018</td>\n",
       "      <td>Europe</td>\n",
       "      <td>Gasoline</td>\n",
       "      <td>Front-wheel drive</td>\n",
       "      <td>0.0</td>\n",
       "      <td>14.246341</td>\n",
       "    </tr>\n",
       "    <tr>\n",
       "      <th>3</th>\n",
       "      <td>220</td>\n",
       "      <td>4.0</td>\n",
       "      <td>NaN</td>\n",
       "      <td>2542.392402</td>\n",
       "      <td>20.2</td>\n",
       "      <td>2009</td>\n",
       "      <td>USA</td>\n",
       "      <td>Diesel</td>\n",
       "      <td>All-wheel drive</td>\n",
       "      <td>2.0</td>\n",
       "      <td>16.912736</td>\n",
       "    </tr>\n",
       "    <tr>\n",
       "      <th>4</th>\n",
       "      <td>210</td>\n",
       "      <td>1.0</td>\n",
       "      <td>140.0</td>\n",
       "      <td>3460.870990</td>\n",
       "      <td>14.4</td>\n",
       "      <td>2009</td>\n",
       "      <td>Europe</td>\n",
       "      <td>Gasoline</td>\n",
       "      <td>All-wheel drive</td>\n",
       "      <td>2.0</td>\n",
       "      <td>12.488369</td>\n",
       "    </tr>\n",
       "  </tbody>\n",
       "</table>\n",
       "</div>"
      ],
      "text/plain": [
       "   engine_displacement  num_cylinders  horsepower  vehicle_weight  \\\n",
       "0                  170            3.0       159.0     3413.433759   \n",
       "1                  130            5.0        97.0     3149.664934   \n",
       "2                  170            NaN        78.0     3079.038997   \n",
       "3                  220            4.0         NaN     2542.392402   \n",
       "4                  210            1.0       140.0     3460.870990   \n",
       "\n",
       "   acceleration  model_year  origin fuel_type         drivetrain  num_doors  \\\n",
       "0          17.7        2003  Europe  Gasoline    All-wheel drive        0.0   \n",
       "1          17.8        2007     USA  Gasoline  Front-wheel drive        0.0   \n",
       "2          15.1        2018  Europe  Gasoline  Front-wheel drive        0.0   \n",
       "3          20.2        2009     USA    Diesel    All-wheel drive        2.0   \n",
       "4          14.4        2009  Europe  Gasoline    All-wheel drive        2.0   \n",
       "\n",
       "   fuel_efficiency_mpg  \n",
       "0            13.231729  \n",
       "1            13.688217  \n",
       "2            14.246341  \n",
       "3            16.912736  \n",
       "4            12.488369  "
      ]
     },
     "execution_count": 62,
     "metadata": {},
     "output_type": "execute_result"
    }
   ],
   "source": [
    "data.head()"
   ]
  },
  {
   "cell_type": "code",
   "execution_count": 63,
   "id": "1b6668c8-cd0f-438a-b2cd-c8af06324341",
   "metadata": {},
   "outputs": [
    {
     "name": "stdout",
     "output_type": "stream",
     "text": [
      "<class 'pandas.core.frame.DataFrame'>\n",
      "RangeIndex: 9704 entries, 0 to 9703\n",
      "Data columns (total 11 columns):\n",
      " #   Column               Non-Null Count  Dtype  \n",
      "---  ------               --------------  -----  \n",
      " 0   engine_displacement  9704 non-null   int64  \n",
      " 1   num_cylinders        9222 non-null   float64\n",
      " 2   horsepower           8996 non-null   float64\n",
      " 3   vehicle_weight       9704 non-null   float64\n",
      " 4   acceleration         8774 non-null   float64\n",
      " 5   model_year           9704 non-null   int64  \n",
      " 6   origin               9704 non-null   object \n",
      " 7   fuel_type            9704 non-null   object \n",
      " 8   drivetrain           9704 non-null   object \n",
      " 9   num_doors            9202 non-null   float64\n",
      " 10  fuel_efficiency_mpg  9704 non-null   float64\n",
      "dtypes: float64(6), int64(2), object(3)\n",
      "memory usage: 834.1+ KB\n"
     ]
    }
   ],
   "source": [
    "data.info()"
   ]
  },
  {
   "cell_type": "markdown",
   "id": "16214690-1d9f-457a-af88-c2e96daca6fc",
   "metadata": {},
   "source": [
    "The goal of this homework is to create a regression model for predicting the car fuel efficiency (column `'fuel_efficiency_mpg'`).\n",
    "\n",
    "### Preparing the dataset \n",
    "\n",
    "Use only the following columns:\n",
    "\n",
    "* `'engine_displacement'`,\n",
    "* `'horsepower'`,\n",
    "* `'vehicle_weight'`,\n",
    "* `'model_year'`,\n",
    "* `'fuel_efficiency_mpg'`"
   ]
  },
  {
   "cell_type": "code",
   "execution_count": 111,
   "id": "7add7acb-2099-46f9-9ecb-7e2d90e80cb7",
   "metadata": {},
   "outputs": [
    {
     "data": {
      "text/html": [
       "<div>\n",
       "<style scoped>\n",
       "    .dataframe tbody tr th:only-of-type {\n",
       "        vertical-align: middle;\n",
       "    }\n",
       "\n",
       "    .dataframe tbody tr th {\n",
       "        vertical-align: top;\n",
       "    }\n",
       "\n",
       "    .dataframe thead th {\n",
       "        text-align: right;\n",
       "    }\n",
       "</style>\n",
       "<table border=\"1\" class=\"dataframe\">\n",
       "  <thead>\n",
       "    <tr style=\"text-align: right;\">\n",
       "      <th></th>\n",
       "      <th>engine_displacement</th>\n",
       "      <th>horsepower</th>\n",
       "      <th>vehicle_weight</th>\n",
       "      <th>model_year</th>\n",
       "      <th>fuel_efficiency_mpg</th>\n",
       "    </tr>\n",
       "  </thead>\n",
       "  <tbody>\n",
       "    <tr>\n",
       "      <th>0</th>\n",
       "      <td>170</td>\n",
       "      <td>159.0</td>\n",
       "      <td>3413.433759</td>\n",
       "      <td>2003</td>\n",
       "      <td>13.231729</td>\n",
       "    </tr>\n",
       "    <tr>\n",
       "      <th>1</th>\n",
       "      <td>130</td>\n",
       "      <td>97.0</td>\n",
       "      <td>3149.664934</td>\n",
       "      <td>2007</td>\n",
       "      <td>13.688217</td>\n",
       "    </tr>\n",
       "    <tr>\n",
       "      <th>2</th>\n",
       "      <td>170</td>\n",
       "      <td>78.0</td>\n",
       "      <td>3079.038997</td>\n",
       "      <td>2018</td>\n",
       "      <td>14.246341</td>\n",
       "    </tr>\n",
       "    <tr>\n",
       "      <th>3</th>\n",
       "      <td>220</td>\n",
       "      <td>NaN</td>\n",
       "      <td>2542.392402</td>\n",
       "      <td>2009</td>\n",
       "      <td>16.912736</td>\n",
       "    </tr>\n",
       "    <tr>\n",
       "      <th>4</th>\n",
       "      <td>210</td>\n",
       "      <td>140.0</td>\n",
       "      <td>3460.870990</td>\n",
       "      <td>2009</td>\n",
       "      <td>12.488369</td>\n",
       "    </tr>\n",
       "  </tbody>\n",
       "</table>\n",
       "</div>"
      ],
      "text/plain": [
       "   engine_displacement  horsepower  vehicle_weight  model_year  \\\n",
       "0                  170       159.0     3413.433759        2003   \n",
       "1                  130        97.0     3149.664934        2007   \n",
       "2                  170        78.0     3079.038997        2018   \n",
       "3                  220         NaN     2542.392402        2009   \n",
       "4                  210       140.0     3460.870990        2009   \n",
       "\n",
       "   fuel_efficiency_mpg  \n",
       "0            13.231729  \n",
       "1            13.688217  \n",
       "2            14.246341  \n",
       "3            16.912736  \n",
       "4            12.488369  "
      ]
     },
     "execution_count": 111,
     "metadata": {},
     "output_type": "execute_result"
    }
   ],
   "source": [
    "#Preparing the dataset\n",
    "cols = ['engine_displacement',\n",
    "        'horsepower',\n",
    "        'vehicle_weight',\n",
    "        'model_year',\n",
    "        'fuel_efficiency_mpg']\n",
    "\n",
    "#Subset the data to the only required columns\n",
    "df = data[cols]\n",
    "df.head()"
   ]
  },
  {
   "cell_type": "markdown",
   "id": "a6f994a1-7268-49db-9ecb-fca745f7bcd7",
   "metadata": {},
   "source": [
    "### EDA\n",
    "\n",
    "* Look at the `fuel_efficiency_mpg` variable. Does it have a long tail? "
   ]
  },
  {
   "cell_type": "code",
   "execution_count": 65,
   "id": "104fe2f1-097a-42bc-a4d2-55a80b424564",
   "metadata": {},
   "outputs": [
    {
     "data": {
      "image/png": "[encoded data removed]",
      "text/plain": [
       "<Figure size 640x480 with 1 Axes>"
      ]
     },
     "metadata": {},
     "output_type": "display_data"
    }
   ],
   "source": [
    "#Distribution of fuel Efficiency\n",
    "sns.histplot(x='fuel_efficiency_mpg', data =df, color=\"cyan\", alpha=0.5)\n",
    "plt.xlabel(\"Fuel Efficiency(mpg)\")\n",
    "plt.ylabel(\"Frequency\")\n",
    "plt.title(\"Distribution of Fuel Efficiency\")\n",
    "plt.show()"
   ]
  },
  {
   "cell_type": "markdown",
   "id": "a3d0657a-710b-4e07-bcac-c963283215b5",
   "metadata": {},
   "source": [
    "From the histogram plotted, fuel efficiency doesn't seem to have a long tail but rather a normal distribution."
   ]
  },
  {
   "cell_type": "markdown",
   "id": "99352391-96b1-4425-9754-79b1f1311bda",
   "metadata": {},
   "source": [
    "### Question 1\n",
    "\n",
    "There's one column with missing values. What is it?\n",
    "\n",
    "* `'engine_displacement'`\n",
    "* `'horsepower'`\n",
    "* `'vehicle_weight'`\n",
    "* `'model_year'`"
   ]
  },
  {
   "cell_type": "code",
   "execution_count": 66,
   "id": "5db7f3c4-0cc5-49d8-8644-999d89e9a976",
   "metadata": {},
   "outputs": [
    {
     "data": {
      "text/plain": [
       "engine_displacement      0\n",
       "horsepower             708\n",
       "vehicle_weight           0\n",
       "model_year               0\n",
       "fuel_efficiency_mpg      0\n",
       "dtype: int64"
      ]
     },
     "execution_count": 66,
     "metadata": {},
     "output_type": "execute_result"
    }
   ],
   "source": [
    "#Missing values\n",
    "df.isna().sum()"
   ]
  },
  {
   "cell_type": "markdown",
   "id": "56ad8be4-b43a-41a7-bcaf-ab456bc34f0c",
   "metadata": {},
   "source": [
    "The `'horsepower'` has 708 missing values."
   ]
  },
  {
   "cell_type": "markdown",
   "id": "f72fd26d-7895-472a-b7d4-160f322c9b11",
   "metadata": {},
   "source": [
    "### Question 2\n",
    "\n",
    "What's the median (50% percentile) for variable `'horsepower'`?\n",
    "\n",
    "- 49\n",
    "- 99\n",
    "- 149\n",
    "- 199"
   ]
  },
  {
   "cell_type": "code",
   "execution_count": 67,
   "id": "3ac338c9-4224-4164-984c-7f515fdf03f3",
   "metadata": {},
   "outputs": [
    {
     "data": {
      "text/plain": [
       "np.float64(149.0)"
      ]
     },
     "execution_count": 67,
     "metadata": {},
     "output_type": "execute_result"
    }
   ],
   "source": [
    "#median value for horsepower\n",
    "horsepower_meadian = df.horsepower.median()\n",
    "horsepower_meadian"
   ]
  },
  {
   "cell_type": "markdown",
   "id": "045c1f49-de91-4c71-bc04-78e19228f753",
   "metadata": {},
   "source": [
    "The median for `'horsepower'` column is **149**."
   ]
  },
  {
   "cell_type": "markdown",
   "id": "43f5056a-2c3d-4264-a6d4-1a3517b1abbf",
   "metadata": {},
   "source": [
    "### Prepare and split the dataset\n",
    "\n",
    "* Shuffle the dataset (the filtered one you created above), use seed `42`.\n",
    "* Split your data in train/val/test sets, with 60%/20%/20% distribution.\n",
    "\n",
    "Use the same code as in the lectures"
   ]
  },
  {
   "cell_type": "code",
   "execution_count": 107,
   "id": "92c14248-fd33-41f4-a591-fd6839f2de5a",
   "metadata": {},
   "outputs": [],
   "source": [
    "#Set the random seed to 42\n",
    "np.random.seed(42)\n",
    "\n",
    "#Find the size of the dataset\n",
    "n = len(df)\n",
    "\n",
    "#Set the split indexes based on the size of the dataset for the train/val/test with a 60/20/20 distribution\n",
    "n_val = int(0.2 * n)\n",
    "n_test = int(0.2 * n)\n",
    "n_train = n - (n_val + n_test)\n",
    "\n",
    "#Find the indexes\n",
    "idx = np.arange(n)\n",
    "\n",
    "#Randomly shuffle the indexes\n",
    "np.random.shuffle(idx)\n",
    "\n",
    "#shuffled dataset\n",
    "df_shuffled = df.iloc[idx]\n",
    "\n",
    "#Split the dataset to train/val/test\n",
    "df_train = df_shuffled.iloc[:n_train].copy()\n",
    "df_val = df_shuffled.iloc[n_train:n_train+n_val].copy()\n",
    "df_test = df_shuffled.iloc[n_train+n_val:].copy()\n"
   ]
  },
  {
   "cell_type": "markdown",
   "id": "608ebae0-8ee3-49b3-a31c-f1cf473d4f7c",
   "metadata": {},
   "source": [
    "### Question 3\n",
    "\n",
    "* We need to deal with missing values for the column from Q1.\n",
    "* We have two options: fill it with 0 or with the mean of this variable.\n",
    "* Try both options. For each, train a linear regression model without regularization using the code from the lessons.\n",
    "* For computing the mean, use the training only!\n",
    "* Use the validation dataset to evaluate the models and compare the RMSE of each option.\n",
    "* Round the RMSE scores to 2 decimal digits using `round(score, 2)`\n",
    "* Which option gives better RMSE?\n",
    "\n",
    "Options:\n",
    "\n",
    "- With 0\n",
    "- With mean\n",
    "- Both are equally good"
   ]
  },
  {
   "cell_type": "code",
   "execution_count": 102,
   "id": "aafdfb5e-d443-46d6-90e1-f3aa15c5f026",
   "metadata": {},
   "outputs": [],
   "source": [
    "def prepare_X(df):\n",
    "    df = df.copy()\n",
    "    df['age'] = 2023 - df.model_year\n",
    "    df = df.drop([\"model_year\"], axis=1)  # must reassign here\n",
    "    X = df.fillna(0).values\n",
    "    return X"
   ]
  },
  {
   "cell_type": "code",
   "execution_count": 103,
   "id": "53d347d4-9174-4f07-b757-66ed7068c9d1",
   "metadata": {},
   "outputs": [],
   "source": [
    "#Train a linear regression model\n",
    "def train_linear_regression(X, y):\n",
    "    ones = np.ones(X.shape[0])\n",
    "    X = np.column_stack([ones, X])\n",
    "\n",
    "    XTX = X.T.dot(X)\n",
    "    XTX_inv = np.linalg.inv(XTX)\n",
    "    w = XTX_inv.dot(X.T).dot(y)\n",
    "    \n",
    "    return w[0], w[1:]"
   ]
  },
  {
   "cell_type": "code",
   "execution_count": 104,
   "id": "d294f160-cdc3-48f3-b23c-199149821c7c",
   "metadata": {},
   "outputs": [],
   "source": [
    "def rmse(y, y_pred):\n",
    "    error = y_pred - y\n",
    "    mse = (error ** 2).mean()\n",
    "    return np.sqrt(mse)"
   ]
  },
  {
   "cell_type": "markdown",
   "id": "57faed8f-ad83-456b-a067-5668df37e415",
   "metadata": {},
   "source": [
    "#### a. Filling missing values with 0"
   ]
  },
  {
   "cell_type": "code",
   "execution_count": 105,
   "id": "5e1faf76-c766-437f-877f-d01aa67c0ad7",
   "metadata": {},
   "outputs": [
    {
     "name": "stdout",
     "output_type": "stream",
     "text": [
      "train_rmse 0.52\n",
      "validation_rmse 0.52\n"
     ]
    }
   ],
   "source": [
    "#Create copies of the split datasets\n",
    "df_train_1 = df_train.copy()\n",
    "df_val_1 = df_val.copy()\n",
    "\n",
    "\n",
    "y_train_orig = df_train_1.fuel_efficiency_mpg.values\n",
    "y_val_orig = df_val_1.fuel_efficiency_mpg.values\n",
    "\n",
    "\n",
    "\n",
    "del df_train_1 ['fuel_efficiency_mpg']\n",
    "del df_val_1['fuel_efficiency_mpg']\n",
    "\n",
    "#df_train_1['age'] = 2023 - df_train_1.model_year\n",
    "#X_train = df_train_1.fillna(0)\n",
    "#X_train = X_train.drop(['model_year'], axis=1)\n",
    "X_train = prepare_X(df_train_1)\n",
    "\n",
    "\n",
    "w_0, w = train_linear_regression(X_train, y_train_orig)\n",
    "y_pred = w_0 + X_train.dot(w)\n",
    "print('train_rmse', round(rmse(y_train_orig, y_pred),2))\n",
    "\n",
    "\n",
    "#df_val_1['age'] = 2023 - df_val_1.model_year\n",
    "#X_val = df_val_1.fillna(0)\n",
    "#X_val = X_val.drop(['model_year'], axis=1)\n",
    "X_val = prepare_X(df_val_1)\n",
    "y_pred = w_0 + X_val.dot(w)\n",
    "print('validation_rmse', round(rmse(y_val_orig, y_pred),2))"
   ]
  },
  {
   "cell_type": "markdown",
   "id": "55b960c4-2f50-4322-a02e-9894e912119f",
   "metadata": {},
   "source": [
    "#### b. Filling missing values with mean"
   ]
  },
  {
   "cell_type": "code",
   "execution_count": 73,
   "id": "5202b2ef-bed0-4497-9b9d-2c89761654a6",
   "metadata": {},
   "outputs": [
    {
     "name": "stdout",
     "output_type": "stream",
     "text": [
      "train_rmse 0.46\n",
      "validation_rmse 0.46\n"
     ]
    }
   ],
   "source": [
    "#Create copies of the split datasets\n",
    "df_train_2 = df_train.copy()\n",
    "df_val_2 = df_val.copy()\n",
    "\n",
    "\n",
    "y_train_orig = df_train_2.fuel_efficiency_mpg.values\n",
    "y_val_orig = df_val_2.fuel_efficiency_mpg.values\n",
    "\n",
    "\n",
    "del df_train_2 ['fuel_efficiency_mpg']\n",
    "del df_val_2['fuel_efficiency_mpg']\n",
    "\n",
    "df_train_2['age'] = 2023 - df_train_2.model_year\n",
    "X_train = df_train_2.fillna(df_train_2['horsepower'].mean())\n",
    "X_train = X_train.drop(['model_year'], axis=1)\n",
    "\n",
    "\n",
    "\n",
    "w_0, w = train_linear_regression(X_train.values, y_train_orig)\n",
    "y_pred = w_0 + X_train.dot(w)\n",
    "print('train_rmse', round(rmse(y_train_orig, y_pred), 2))\n",
    "\n",
    "\n",
    "df_val_2['age'] = 2023 - df_val_2.model_year\n",
    "X_val = df_val_2.fillna(df_train_2['horsepower'].mean())\n",
    "X_val = X_val.drop(['model_year'], axis=1).values\n",
    "\n",
    "y_pred = w_0 + X_val.dot(w)\n",
    "print('validation_rmse', round(rmse(y_val_orig, y_pred),2))"
   ]
  },
  {
   "cell_type": "markdown",
   "id": "eaae0f7e-84f4-466a-a4ff-400cf1c53a49",
   "metadata": {},
   "source": [
    "Filling missing values with mean outputs a lower rmse of **0.46** on the validation set compared to that of **0.52** when filling missing values with zeros."
   ]
  },
  {
   "cell_type": "markdown",
   "id": "6efd079c-214f-4fc5-8a96-78a2a6c2a21b",
   "metadata": {},
   "source": [
    "### Question 4\n",
    "\n",
    "* Now let's train a regularized linear regression.\n",
    "* For this question, fill the NAs with 0. \n",
    "* Try different values of `r` from this list: `[0, 0.01, 0.1, 1, 5, 10, 100]`.\n",
    "* Use RMSE to evaluate the model on the validation dataset.\n",
    "* Round the RMSE scores to 2 decimal digits.\n",
    "* Which `r` gives the best RMSE?\n",
    "\n",
    "If multiple options give the same best RMSE, select the smallest `r`.\n",
    "\n",
    "Options:\n",
    "\n",
    "- 0\n",
    "- 0.01\n",
    "- 1\n",
    "- 10\n",
    "- 100"
   ]
  },
  {
   "cell_type": "code",
   "execution_count": 106,
   "id": "175e30fa-106b-4d9d-9bd2-be6f5616bf81",
   "metadata": {},
   "outputs": [],
   "source": [
    "def train_linear_regression_reg(X, y, r=0.0):\n",
    "    ones = np.ones(X.shape[0])\n",
    "    X = np.column_stack([ones, X])\n",
    "\n",
    "    XTX = X.T.dot(X)\n",
    "    reg = r * np.eye(XTX.shape[0])\n",
    "    XTX = XTX + reg\n",
    "\n",
    "    XTX_inv = np.linalg.inv(XTX)\n",
    "    w = XTX_inv.dot(X.T).dot(y)\n",
    "    \n",
    "    return w[0], w[1:]"
   ]
  },
  {
   "cell_type": "code",
   "execution_count": 109,
   "id": "9fc944de-b468-4905-b3a8-95311832128e",
   "metadata": {},
   "outputs": [
    {
     "name": "stdout",
     "output_type": "stream",
     "text": [
      "     0 12.51\n",
      "  0.01 12.51\n",
      "   0.1 12.51\n",
      "     1 12.5\n",
      "     5 12.46\n",
      "    10 12.42\n",
      "   100 12.15\n"
     ]
    }
   ],
   "source": [
    "#Create copies of the split datasets\n",
    "df_train_1 = df_train.copy()\n",
    "df_val_1 = df_val.copy()\n",
    "\n",
    "\n",
    "y_train_orig = df_train_1.fuel_efficiency_mpg.values\n",
    "y_val_orig = df_val_1.fuel_efficiency_mpg.values\n",
    "\n",
    "\n",
    "\n",
    "del df_train_1 ['fuel_efficiency_mpg']\n",
    "del df_val_1['fuel_efficiency_mpg']\n",
    "\n",
    "\n",
    "\n",
    "X_train = prepare_X(df_train_1)\n",
    "X_val = prepare_X(df_val_1)\n",
    "\n",
    "for r  in [0, 0.01, 0.1, 1, 5, 10, 100]:\n",
    "    w_0, w = train_linear_regression_reg(X_train, y_train_orig, r=r)\n",
    "    y_pred = w_0 + X_val.dot(w)\n",
    "    print('%6s' %r, round(rmse(y_val, y_pred),2))"
   ]
  },
  {
   "cell_type": "markdown",
   "id": "e4a4fd10-bd62-4a18-a0ad-59632454b099",
   "metadata": {},
   "source": [
    "An **r** value of **100** gives the best rmse of **12.15**."
   ]
  },
  {
   "cell_type": "markdown",
   "id": "834a722f-b4bf-4593-83df-7d2727caf42b",
   "metadata": {},
   "source": [
    "### Question 5 \n",
    "\n",
    "* We used seed 42 for splitting the data. Let's find out how selecting the seed influences our score.\n",
    "* Try different seed values: `[0, 1, 2, 3, 4, 5, 6, 7, 8, 9]`.\n",
    "* For each seed, do the train/validation/test split with 60%/20%/20% distribution.\n",
    "* Fill the missing values with 0 and train a model without regularization.\n",
    "* For each seed, evaluate the model on the validation dataset and collect the RMSE scores. \n",
    "* What's the standard deviation of all the scores? To compute the standard deviation, use `np.std`.\n",
    "* Round the result to 3 decimal digits (`round(std, 3)`)\n",
    "\n",
    "What's the value of std?\n",
    "\n",
    "- 0.001\n",
    "- 0.006\n",
    "- 0.060\n",
    "- 0.600\n",
    "\n",
    "> Note: Standard deviation shows how different the values are.\n",
    "> If it's low, then all values are approximately the same.\n",
    "> If it's high, the values are different. \n",
    "> If standard deviation of scores is low, then our model is *stable*."
   ]
  },
  {
   "cell_type": "code",
   "execution_count": 112,
   "id": "ce78e933-390b-4976-b5b0-8821b8c65e6f",
   "metadata": {},
   "outputs": [],
   "source": [
    "def prepare_X(df):\n",
    "    df = df.copy()\n",
    "    df['age'] = 2023 - df.model_year\n",
    "    df = df.drop([\"model_year\"], axis=1) \n",
    "    X = df.fillna(0).values\n",
    "    return X\n",
    "\n",
    "def rmse(y, y_pred):\n",
    "    error = y_pred - y\n",
    "    mse = (error ** 2).mean()\n",
    "    return np.sqrt(mse)\n",
    "\n",
    "def train_linear_regression(X, y):\n",
    "    ones = np.ones(X.shape[0])\n",
    "    X = np.column_stack([ones, X])\n",
    "\n",
    "    XTX = X.T.dot(X)\n",
    "    XTX_inv = np.linalg.inv(XTX)\n",
    "    w = XTX_inv.dot(X.T).dot(y)\n",
    "    \n",
    "    return w[0], w[1:]"
   ]
  },
  {
   "cell_type": "code",
   "execution_count": 114,
   "id": "ec8c8dbd-8321-489d-adf0-ca44d7b61487",
   "metadata": {},
   "outputs": [
    {
     "name": "stdout",
     "output_type": "stream",
     "text": [
      "Validation RMSE scores: [np.float64(1.5225682062612196e-11), np.float64(6.352771722128519e-12), np.float64(3.4763546411650483e-12), np.float64(5.8229794597204974e-12), np.float64(7.553197143045781e-12), np.float64(7.320383282189684e-12), np.float64(5.675433583929159e-12), np.float64(5.004588801544447e-12), np.float64(1.3093606010115804e-12), np.float64(6.075394611174709e-12)]\n",
      "Standard deviation: 0.0\n"
     ]
    }
   ],
   "source": [
    "seeds = [0, 1, 2, 3, 4, 5, 6, 7, 8, 9]\n",
    "rmse_scores = []\n",
    "\n",
    "for seed in seeds:\n",
    "    np.random.seed(seed)\n",
    "    \n",
    "    n = len(df)\n",
    "    n_val = int(0.2 * n)\n",
    "    n_test = int(0.2 * n)\n",
    "    n_train = n - (n_val + n_test)\n",
    "\n",
    "    idx = np.arange(n)\n",
    "    np.random.shuffle(idx)\n",
    "\n",
    "    df_shuffled = df.iloc[idx]\n",
    "\n",
    "    df_train = df_shuffled.iloc[:n_train].copy()\n",
    "    df_val = df_shuffled.iloc[n_train:n_train+n_val].copy()\n",
    "    df_test = df_shuffled.iloc[n_train+n_val:].copy()\n",
    "\n",
    "    y_train_orig = df_train.fuel_efficiency_mpg.values\n",
    "    y_val_orig = df_val.fuel_efficiency_mpg.values\n",
    "\n",
    "    X_train = prepare_X(df_train)\n",
    "    X_val = prepare_X(df_val)\n",
    "\n",
    "    w_0, w = train_linear_regression(X_train, y_train_orig)\n",
    "    \n",
    "    y_pred = w_0 + X_val.dot(w)\n",
    "    score = rmse(y_val_orig, y_pred)\n",
    "    rmse_scores.append(score)\n",
    "\n",
    "# Compute standard deviation\n",
    "std = np.std(rmse_scores)\n",
    "print(\"Validation RMSE scores:\", rmse_scores)\n",
    "print(\"Standard deviation:\", round(std, 3))"
   ]
  },
  {
   "cell_type": "markdown",
   "id": "9ace39f0-db0f-4a7d-a200-b6c343a551f7",
   "metadata": {},
   "source": [
    "the std is **0.00**"
   ]
  },
  {
   "cell_type": "markdown",
   "id": "26c2e386-18a5-4631-b8aa-a650366d4dd7",
   "metadata": {},
   "source": [
    "### Question 6\n",
    "\n",
    "* Split the dataset like previously, use seed 9.\n",
    "* Combine train and validation datasets.\n",
    "* Fill the missing values with 0 and train a model with `r=0.001`. \n",
    "* What's the RMSE on the test dataset?\n",
    "\n",
    "Options:\n",
    "\n",
    "- 0.15\n",
    "- 0.515\n",
    "- 5.15\n",
    "- 51.5"
   ]
  },
  {
   "cell_type": "code",
   "execution_count": 117,
   "id": "51b3d93e-8a3b-4a43-abc9-3a15520efbfa",
   "metadata": {},
   "outputs": [
    {
     "name": "stdout",
     "output_type": "stream",
     "text": [
      "Test RMSE: 0.516\n"
     ]
    }
   ],
   "source": [
    "np.random.seed(9)\n",
    "\n",
    "# split\n",
    "n = len(df)\n",
    "n_val = int(0.2 * n)\n",
    "n_test = int(0.2 * n)\n",
    "n_train = n - (n_val + n_test)\n",
    "\n",
    "idx = np.arange(n)\n",
    "np.random.shuffle(idx)\n",
    "\n",
    "df_shuffled = df.iloc[idx]\n",
    "\n",
    "df_train = df_shuffled.iloc[:n_train].copy()\n",
    "df_val   = df_shuffled.iloc[n_train:n_train+n_val].copy()\n",
    "df_test  = df_shuffled.iloc[n_train+n_val:].copy()\n",
    "\n",
    "# combine train + val\n",
    "df_full_train = pd.concat([df_train, df_val]).reset_index(drop=True)\n",
    "\n",
    "# targets\n",
    "y_full_train = df_full_train.fuel_efficiency_mpg.values\n",
    "y_test = df_test.fuel_efficiency_mpg.values\n",
    "\n",
    "# features\n",
    "df_full_train = df_full_train.drop(columns=['fuel_efficiency_mpg'])\n",
    "df_test_X = df_test.drop(columns=['fuel_efficiency_mpg'])\n",
    "\n",
    "X_full_train = prepare_X(df_full_train)\n",
    "X_test = prepare_X(df_test_X)\n",
    "\n",
    "# train with r=0.001\n",
    "w_0, w = train_linear_regression_reg(X_full_train, y_full_train, r=0.001)\n",
    "\n",
    "# predict on test\n",
    "y_pred = w_0 + X_test.dot(w)\n",
    "\n",
    "# evaluate\n",
    "test_rmse = rmse(y_test, y_pred)\n",
    "print(\"Test RMSE:\", round(test_rmse, 3))"
   ]
  },
  {
   "cell_type": "markdown",
   "id": "70fb3919-cf91-42ff-94c9-05f55f0d49ff",
   "metadata": {},
   "source": [
    "The test rmse for seed = 9 and r=0.001 is **0.516**"
   ]
  },
  {
   "cell_type": "markdown",
   "id": "ec78f811-c396-4956-b699-7f4d99626d6c",
   "metadata": {},
   "source": [
    "## Submit the results\n",
    "\n",
    "* Submit your results here: https://courses.datatalks.club/ml-zoomcamp-2025/homework/hw02\n",
    "* If your answer doesn't match options exactly, select the closest one"
   ]
  }
 ],
 "metadata": {
  "kernelspec": {
   "display_name": "Python 3 (ipykernel)",
   "language": "python",
   "name": "python3"
  },
  "language_info": {
   "codemirror_mode": {
    "name": "ipython",
    "version": 3
   },
   "file_extension": ".py",
   "mimetype": "text/x-python",
   "name": "python",
   "nbconvert_exporter": "python",
   "pygments_lexer": "ipython3",
   "version": "3.12.1"
  }
 },
 "nbformat": 4,
 "nbformat_minor": 5
}
