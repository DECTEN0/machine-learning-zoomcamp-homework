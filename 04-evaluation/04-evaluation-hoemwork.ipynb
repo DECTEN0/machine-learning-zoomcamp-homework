{
 "cells": [
  {
   "cell_type": "markdown",
   "id": "a0b58efc",
   "metadata": {},
   "source": [
    "# Homework"
   ]
  },
  {
   "cell_type": "markdown",
   "id": "6e9100d9-55a1-43d5-af3c-df01e6da3fba",
   "metadata": {},
   "source": [
    "> Note: sometimes your answer doesn't match one of \n",
    "> the options exactly. That's fine. \n",
    "> Select the option that's closest to your solution.\n",
    "\n",
    "\n",
    "In this homework, we will use the lead scoring dataset Bank Marketing dataset. Download it from [here](https://raw.githubusercontent.com/alexeygrigorev/datasets/master/course_lead_scoring.csv).\n",
    "\n",
    "\n",
    "In this dataset our desired target for classification task will be `converted` variable - has the client signed up to the platform or not. \n"
   ]
  },
  {
   "cell_type": "code",
   "execution_count": 1,
   "id": "c491d761-0340-4ebd-bac6-0d5c9296cf99",
   "metadata": {},
   "outputs": [],
   "source": [
    "#Imports\n",
    "import pandas as pd\n",
    "import numpy as np\n",
    "import matplotlib.pyplot as plt\n",
    "import seaborn as sns\n",
    "\n",
    "data = 'https://raw.githubusercontent.com/alexeygrigorev/datasets/master/course_lead_scoring.csv'"
   ]
  },
  {
   "cell_type": "markdown",
   "id": "34c09818-f49e-456b-bcbf-8b81a01faa18",
   "metadata": {},
   "source": [
    "### Data preparation\n",
    "\n",
    "* Check if the missing values are presented in the features.\n",
    "* If there are missing values:\n",
    "    * For caterogiral features, replace them with 'NA'\n",
    "    * For numerical features, replace with with 0.0 \n",
    "\n",
    "\n",
    "Split the data into 3 parts: train/validation/test with 60%/20%/20% distribution. Use `train_test_split` function for that with `random_state=1`"
   ]
  },
  {
   "cell_type": "code",
   "execution_count": 2,
   "id": "9db262dc-9a64-40d5-b0e2-6fc4628b2992",
   "metadata": {},
   "outputs": [],
   "source": [
    "df = pd.read_csv(data)"
   ]
  },
  {
   "cell_type": "code",
   "execution_count": 5,
   "id": "2efbccf6",
   "metadata": {},
   "outputs": [
    {
     "data": {
      "text/html": [
       "<div>\n",
       "<style scoped>\n",
       "    .dataframe tbody tr th:only-of-type {\n",
       "        vertical-align: middle;\n",
       "    }\n",
       "\n",
       "    .dataframe tbody tr th {\n",
       "        vertical-align: top;\n",
       "    }\n",
       "\n",
       "    .dataframe thead th {\n",
       "        text-align: right;\n",
       "    }\n",
       "</style>\n",
       "<table border=\"1\" class=\"dataframe\">\n",
       "  <thead>\n",
       "    <tr style=\"text-align: right;\">\n",
       "      <th></th>\n",
       "      <th>lead_source</th>\n",
       "      <th>industry</th>\n",
       "      <th>number_of_courses_viewed</th>\n",
       "      <th>annual_income</th>\n",
       "      <th>employment_status</th>\n",
       "      <th>location</th>\n",
       "      <th>interaction_count</th>\n",
       "      <th>lead_score</th>\n",
       "      <th>converted</th>\n",
       "    </tr>\n",
       "  </thead>\n",
       "  <tbody>\n",
       "    <tr>\n",
       "      <th>0</th>\n",
       "      <td>paid_ads</td>\n",
       "      <td>NaN</td>\n",
       "      <td>1</td>\n",
       "      <td>79450.0</td>\n",
       "      <td>unemployed</td>\n",
       "      <td>south_america</td>\n",
       "      <td>4</td>\n",
       "      <td>0.94</td>\n",
       "      <td>1</td>\n",
       "    </tr>\n",
       "    <tr>\n",
       "      <th>1</th>\n",
       "      <td>social_media</td>\n",
       "      <td>retail</td>\n",
       "      <td>1</td>\n",
       "      <td>46992.0</td>\n",
       "      <td>employed</td>\n",
       "      <td>south_america</td>\n",
       "      <td>1</td>\n",
       "      <td>0.80</td>\n",
       "      <td>0</td>\n",
       "    </tr>\n",
       "    <tr>\n",
       "      <th>2</th>\n",
       "      <td>events</td>\n",
       "      <td>healthcare</td>\n",
       "      <td>5</td>\n",
       "      <td>78796.0</td>\n",
       "      <td>unemployed</td>\n",
       "      <td>australia</td>\n",
       "      <td>3</td>\n",
       "      <td>0.69</td>\n",
       "      <td>1</td>\n",
       "    </tr>\n",
       "    <tr>\n",
       "      <th>3</th>\n",
       "      <td>paid_ads</td>\n",
       "      <td>retail</td>\n",
       "      <td>2</td>\n",
       "      <td>83843.0</td>\n",
       "      <td>NaN</td>\n",
       "      <td>australia</td>\n",
       "      <td>1</td>\n",
       "      <td>0.87</td>\n",
       "      <td>0</td>\n",
       "    </tr>\n",
       "    <tr>\n",
       "      <th>4</th>\n",
       "      <td>referral</td>\n",
       "      <td>education</td>\n",
       "      <td>3</td>\n",
       "      <td>85012.0</td>\n",
       "      <td>self_employed</td>\n",
       "      <td>europe</td>\n",
       "      <td>3</td>\n",
       "      <td>0.62</td>\n",
       "      <td>1</td>\n",
       "    </tr>\n",
       "  </tbody>\n",
       "</table>\n",
       "</div>"
      ],
      "text/plain": [
       "    lead_source    industry  number_of_courses_viewed  annual_income  \\\n",
       "0      paid_ads         NaN                         1        79450.0   \n",
       "1  social_media      retail                         1        46992.0   \n",
       "2        events  healthcare                         5        78796.0   \n",
       "3      paid_ads      retail                         2        83843.0   \n",
       "4      referral   education                         3        85012.0   \n",
       "\n",
       "  employment_status       location  interaction_count  lead_score  converted  \n",
       "0        unemployed  south_america                  4        0.94          1  \n",
       "1          employed  south_america                  1        0.80          0  \n",
       "2        unemployed      australia                  3        0.69          1  \n",
       "3               NaN      australia                  1        0.87          0  \n",
       "4     self_employed         europe                  3        0.62          1  "
      ]
     },
     "execution_count": 5,
     "metadata": {},
     "output_type": "execute_result"
    }
   ],
   "source": [
    "df.head()"
   ]
  },
  {
   "cell_type": "code",
   "execution_count": 3,
   "id": "65bed198-d054-4021-80e2-09fce2f0f4b0",
   "metadata": {},
   "outputs": [
    {
     "data": {
      "text/plain": [
       "lead_source                 128\n",
       "industry                    134\n",
       "number_of_courses_viewed      0\n",
       "annual_income               181\n",
       "employment_status           100\n",
       "location                     63\n",
       "interaction_count             0\n",
       "lead_score                    0\n",
       "converted                     0\n",
       "dtype: int64"
      ]
     },
     "execution_count": 3,
     "metadata": {},
     "output_type": "execute_result"
    }
   ],
   "source": [
    "#check for missing values\n",
    "df.isna().sum()"
   ]
  },
  {
   "cell_type": "code",
   "execution_count": null,
   "id": "d74ddebf-6d42-4f95-b603-bd10748a5220",
   "metadata": {},
   "outputs": [
    {
     "data": {
      "text/plain": [
       "lead_source                 0\n",
       "industry                    0\n",
       "number_of_courses_viewed    0\n",
       "annual_income               0\n",
       "employment_status           0\n",
       "location                    0\n",
       "interaction_count           0\n",
       "lead_score                  0\n",
       "converted                   0\n",
       "dtype: int64"
      ]
     },
     "execution_count": 6,
     "metadata": {},
     "output_type": "execute_result"
    }
   ],
   "source": [
    "#Get categorial columns\n",
    "cat_columns = list(df.select_dtypes(include=['object']).columns)\n",
    "\n",
    "#Get numerical columns list\n",
    "num_columns = list(df.select_dtypes(include=['int64', 'float64']).columns)\n",
    "\n",
    "\n",
    "#replace missing values in categorial columns with 'NA'\n",
    "for col in cat_columns:\n",
    "    df[col] = df[col].fillna('NA')\n",
    "\n",
    "#replace missing values in numerical columns with 0.0\n",
    "for col in num_columns:\n",
    "    df[col] = df[col].fillna(0.0)\n",
    "    \n",
    "#check for missing values again\n",
    "df.isna().sum()"
   ]
  },
  {
   "cell_type": "code",
   "execution_count": 7,
   "id": "b848f858",
   "metadata": {},
   "outputs": [
    {
     "name": "stdout",
     "output_type": "stream",
     "text": [
      "(876, 8)\n",
      "(293, 8)\n",
      "(293, 8)\n"
     ]
    }
   ],
   "source": [
    "#Split the data to train/val/test\n",
    "from sklearn.model_selection import train_test_split\n",
    "\n",
    "df_full_train, df_test = train_test_split(df, test_size=0.2, random_state=1)\n",
    "df_train, df_val = train_test_split(df_full_train, test_size=0.25, random_state=1)\n",
    "\n",
    "#reset index\n",
    "df_train = df_train.reset_index(drop=True)\n",
    "df_val = df_val.reset_index(drop=True)\n",
    "df_test = df_test.reset_index(drop=True)\n",
    "\n",
    "#set target variable\n",
    "y_train = df_train.converted.values\n",
    "y_val = df_val.converted.values\n",
    "y_test = df_test.converted.values\n",
    "\n",
    "#drop target variable from dataframes\n",
    "df_train = df_train.drop('converted', axis=1)\n",
    "df_val = df_val.drop('converted', axis=1)\n",
    "df_test = df_test.drop('converted', axis=1)\n",
    "\n",
    "#check the shape of the datasets\n",
    "print(df_train.shape)\n",
    "print(df_val.shape)\n",
    "print(df_test.shape)\n"
   ]
  },
  {
   "cell_type": "markdown",
   "id": "70d2e42e-f679-49eb-bc2a-7e2564c6eb6f",
   "metadata": {},
   "source": [
    "### Question 1: ROC AUC feature importance\n",
    "\n",
    "ROC AUC could also be used to evaluate feature importance of numerical variables. \n",
    "\n",
    "Let's do that\n",
    "\n",
    "* For each numerical variable, use it as score (aka prediction) and compute the AUC with the `y` variable as ground truth.\n",
    "* Use the training dataset for that\n",
    "\n",
    "\n",
    "If your AUC is < 0.5, invert this variable by putting \"-\" in front\n",
    "\n",
    "(e.g. `-df_train['balance']`)\n",
    "\n",
    "AUC can go below 0.5 if the variable is negatively correlated with the target variable. You can change the direction of the correlation by negating this variable - then negative correlation becomes positive.\n",
    "\n",
    "Which numerical variable (among the following 4) has the highest AUC?\n",
    "\n",
    "- `lead_score`\n",
    "- `number_of_courses_viewed`\n",
    "- `interaction_count`\n",
    "- `annual_income`"
   ]
  },
  {
   "cell_type": "code",
   "execution_count": null,
   "id": "26807a02-2156-40ab-9aea-b86cea4dabf6",
   "metadata": {},
   "outputs": [
    {
     "name": "stdout",
     "output_type": "stream",
     "text": [
      "ROC AUC for number_of_courses_viewed: 0.7635680590007088\n",
      "ROC AUC for annual_income: 0.5519578313253012\n",
      "ROC AUC for interaction_count: 0.738270176293409\n",
      "ROC AUC for lead_score: 0.6144993577250176\n"
     ]
    }
   ],
   "source": [
    "#roc auc feature importance of numerical features, use each numerrical variable to predict the target variable\n",
    "from sklearn.metrics import roc_auc_score\n",
    "\n",
    "#create list of numerical columns withouth converted\n",
    "num_columns.remove('converted')\n",
    "\n",
    "#if auc is <0.5 invert by using - in front of the variable\n",
    "for col in num_columns:\n",
    "    auc = roc_auc_score(y_train, df_train[col])\n",
    "    if auc < 0.5:\n",
    "        auc = roc_auc_score(y_train, -df_train[col])\n",
    "    print(f'ROC AUC for {col}: {auc}')"
   ]
  },
  {
   "cell_type": "markdown",
   "id": "e9b33255-bd33-4e36-b63b-e2e6d75a48c1",
   "metadata": {},
   "source": [
    "### Question 2: Training the model\n",
    "\n",
    "Apply one-hot-encoding using `DictVectorizer` and train the logistic regression with these parameters:\n",
    "\n",
    "```python\n",
    "LogisticRegression(solver='liblinear', C=1.0, max_iter=1000)\n",
    "```\n",
    "\n",
    "What's the AUC of this model on the validation dataset? (round to 3 digits)\n",
    "\n",
    "- 0.32\n",
    "- 0.52\n",
    "- 0.72\n",
    "- 0.92"
   ]
  },
  {
   "cell_type": "code",
   "execution_count": 12,
   "id": "420393ef-c2c8-4e9c-9c7b-a34157ffe02d",
   "metadata": {},
   "outputs": [
    {
     "name": "stdout",
     "output_type": "stream",
     "text": [
      "ROC AUC on validation set: 0.817\n"
     ]
    }
   ],
   "source": [
    "#apply one hot encoding to categorical variables using DictVectorizer and train a logistic regression model\n",
    "from sklearn.feature_extraction import DictVectorizer\n",
    "from sklearn.linear_model import LogisticRegression\n",
    "from sklearn.pipeline import make_pipeline\n",
    "\n",
    "#create feature list\n",
    "categorical = cat_columns.copy()\n",
    "numerical = num_columns.copy()\n",
    "features = categorical + numerical\n",
    "\n",
    "#create pipeline\n",
    "dv = DictVectorizer(sparse=False)\n",
    "lr = LogisticRegression(solver='liblinear', C=1.0, max_iter=1000)\n",
    "\n",
    "#train the model\n",
    "train_dicts = df_train[features].to_dict(orient='records')\n",
    "X_train = dv.fit_transform(train_dicts)\n",
    "\n",
    "#fit the model\n",
    "lr.fit(X_train, y_train)\n",
    "val_dicts = df_val[features].to_dict(orient='records')\n",
    "X_val = dv.transform(val_dicts)\n",
    "\n",
    "#predict probabilities on validation set\n",
    "y_pred = lr.predict_proba(X_val)[:, 1]\n",
    "\n",
    "#calculate roc auc on validation set\n",
    "auc = roc_auc_score(y_val, y_pred)\n",
    "\n",
    "#print the auc score to 3 decimal places\n",
    "print(f'ROC AUC on validation set: {auc:.3f}')"
   ]
  },
  {
   "cell_type": "markdown",
   "id": "be308b0e-dc5c-4564-bc9d-dff63b5c9e41",
   "metadata": {},
   "source": [
    "### Question 3: Precision and Recall\n",
    "\n",
    "Now let's compute precision and recall for our model.\n",
    "\n",
    "* Evaluate the model on all thresholds from 0.0 to 1.0 with step 0.01\n",
    "* For each threshold, compute precision and recall\n",
    "* Plot them\n",
    "\n",
    "At which threshold precision and recall curves intersect?\n",
    "\n",
    "* 0.145\n",
    "* 0.345\n",
    "* 0.545\n",
    "* 0.745"
   ]
  },
  {
   "cell_type": "code",
   "execution_count": 19,
   "id": "c8ba253d-9d18-4ad5-bf56-bf6c17f5b7a1",
   "metadata": {},
   "outputs": [
    {
     "data": {
      "image/png": "[encoded data removed]",
      "text/plain": [
       "<Figure size 640x480 with 1 Axes>"
      ]
     },
     "metadata": {},
     "output_type": "display_data"
    },
    {
     "name": "stdout",
     "output_type": "stream",
     "text": [
      "Precision and Recall are equal at threshold 0.64: 0.779\n",
      "Precision and Recall are equal at threshold 0.98: 0.000\n",
      "Precision and Recall are equal at threshold 0.99: 0.000\n",
      "Precision and Recall are equal at threshold 1.00: 0.000\n"
     ]
    }
   ],
   "source": [
    "#compute precision and recall at all thresholds from 0.0 to 1.0 with step 0.01 for each threshold, and plot precision and recall as a function of the threshold\n",
    "from sklearn.metrics import precision_recall_curve\n",
    "\n",
    "#thresholds from 0.0 to 1.0 with step 0.01\n",
    "thresholds = np.arange(0.0, 1.01, 0.01)\n",
    "\n",
    "#for each threshold, compute precision and recall\n",
    "precisions = []\n",
    "recalls = []\n",
    "for t in thresholds:\n",
    "    y_pred_threshold = (y_pred >= t).astype(int)\n",
    "    tp = ((y_val == 1) & (y_pred_threshold == 1)).sum()\n",
    "    fp = ((y_val == 0) & (y_pred_threshold == 1)).sum()\n",
    "    fn = ((y_val == 1) & (y_pred_threshold == 0)).sum()\n",
    "    precision = tp / (tp + fp) if (tp + fp) > 0 else 0\n",
    "    recall = tp / (tp + fn) if (tp + fn) > 0 else 0\n",
    "    precisions.append(precision)\n",
    "    recalls.append(recall)\n",
    "\n",
    "#plot precision and recall as a function of the threshold\n",
    "plt.plot(thresholds, precisions, label='Precision')\n",
    "plt.plot(thresholds, recalls, label='Recall')\n",
    "plt.xlabel('Threshold')\n",
    "plt.ylabel('Score')\n",
    "plt.title('Precision and Recall vs Threshold')\n",
    "plt.legend()\n",
    "plt.grid()\n",
    "plt.show()\n",
    "\n",
    "#atwhat threshold precision and recall are equal\n",
    "for t, p, r in zip(thresholds, precisions, recalls):\n",
    "    if abs(p - r) < 0.01:\n",
    "        print(f'Precision and Recall are equal at threshold {t:.2f}: {p:.3f}')\n"
   ]
  },
  {
   "cell_type": "markdown",
   "id": "350c3e13-78fb-45aa-b150-d1f35e06c3be",
   "metadata": {},
   "source": [
    "### Question 4: F1 score\n",
    "\n",
    "Precision and recall are conflicting - when one grows, the other goes down. That's why they are often combined into the F1 score - a metrics that takes into account both\n",
    "\n",
    "This is the formula for computing F1:\n",
    "\n",
    "$$F_1 = 2 \\cdot \\cfrac{P \\cdot R}{P + R}$$\n",
    "\n",
    "Where $P$ is precision and $R$ is recall.\n",
    "\n",
    "Let's compute F1 for all thresholds from 0.0 to 1.0 with increment 0.01\n",
    "\n",
    "At which threshold F1 is maximal?\n",
    "\n",
    "- 0.14\n",
    "- 0.34\n",
    "- 0.54\n",
    "- 0.74"
   ]
  },
  {
   "cell_type": "code",
   "execution_count": 18,
   "id": "cdb60990-6248-46a0-b031-b0e5a5892705",
   "metadata": {},
   "outputs": [
    {
     "name": "stdout",
     "output_type": "stream",
     "text": [
      "Best threshold: 0.57\n",
      "Best F1 score: 0.812\n"
     ]
    }
   ],
   "source": [
    "#compute f1 at all thresholds from 0.0 to 1.0 with step 0.01, and plot f1 as a function of the threshold\n",
    "from sklearn.metrics import f1_score\n",
    "\n",
    "f1_scores = []\n",
    "thresholds = np.arange(0.0, 1.01, 0.01)\n",
    "for threshold in thresholds:\n",
    "    y_pred_threshold = (y_pred >= threshold).astype(int)\n",
    "    f1 = f1_score(y_val, y_pred_threshold)\n",
    "    f1_scores.append(f1)\n",
    "#find the threshold that gives the highest f1 score\n",
    "best_threshold = thresholds[np.argmax(f1_scores)]\n",
    "best_f1 = max(f1_scores)\n",
    "print(f'Best threshold: {best_threshold:.2f}')\n",
    "print(f'Best F1 score: {best_f1:.3f}')"
   ]
  },
  {
   "cell_type": "markdown",
   "id": "edb5e8ca-c724-4d7d-a8ba-6f1ea91b5683",
   "metadata": {},
   "source": [
    "### Question 5: 5-Fold CV\n",
    "\n",
    "\n",
    "Use the `KFold` class from Scikit-Learn to evaluate our model on 5 different folds:\n",
    "\n",
    "```\n",
    "KFold(n_splits=5, shuffle=True, random_state=1)\n",
    "```\n",
    "\n",
    "* Iterate over different folds of `df_full_train`\n",
    "* Split the data into train and validation\n",
    "* Train the model on train with these parameters: `LogisticRegression(solver='liblinear', C=1.0, max_iter=1000)`\n",
    "* Use AUC to evaluate the model on validation\n",
    "\n",
    "How large is standard deviation of the scores across different folds?\n",
    "\n",
    "- 0.0001\n",
    "- 0.006\n",
    "- 0.06\n",
    "- 0.36"
   ]
  },
  {
   "cell_type": "code",
   "execution_count": 20,
   "id": "c1ea49e8-0575-42b6-baf3-e6a8fd237c71",
   "metadata": {},
   "outputs": [
    {
     "name": "stdout",
     "output_type": "stream",
     "text": [
      "Mean ROC AUC: 0.822\n",
      "STD ROC AUC: 0.036\n"
     ]
    }
   ],
   "source": [
    "#use kflold cross validation with 5 folds to evaluate the model\n",
    "from sklearn.model_selection import KFold\n",
    "\n",
    "#initialize kfold\n",
    "kf = KFold(n_splits=5, shuffle=True, random_state=1)\n",
    "auc_scores = []\n",
    "#iterate through the folds of df_full_train\n",
    "for train_index, val_index in kf.split(df_full_train):\n",
    "    df_train_kf = df_full_train.iloc[train_index]\n",
    "    df_val_kf = df_full_train.iloc[val_index]\n",
    "    \n",
    "    y_train_kf = df_train_kf.converted.values\n",
    "    y_val_kf = df_val_kf.converted.values\n",
    "    \n",
    "    df_train_kf = df_train_kf.drop('converted', axis=1)\n",
    "    df_val_kf = df_val_kf.drop('converted', axis=1)\n",
    "    \n",
    "    train_dicts_kf = df_train_kf[features].to_dict(orient='records')\n",
    "    X_train_kf = dv.fit_transform(train_dicts_kf)\n",
    "    \n",
    "    lr.fit(X_train_kf, y_train_kf)\n",
    "    \n",
    "    val_dicts_kf = df_val_kf[features].to_dict(orient='records')\n",
    "    X_val_kf = dv.transform(val_dicts_kf)\n",
    "    \n",
    "    y_pred_kf = lr.predict_proba(X_val_kf)[:, 1]\n",
    "    \n",
    "    auc_kf = roc_auc_score(y_val_kf, y_pred_kf)\n",
    "    auc_scores.append(auc_kf)\n",
    "\n",
    "    #calculate the mean and std of the auc scores\n",
    "mean_auc = np.mean(auc_scores)\n",
    "std_auc = np.std(auc_scores)\n",
    "print(f'Mean ROC AUC: {mean_auc:.3f}')\n",
    "print(f'STD ROC AUC: {std_auc:.3f}')"
   ]
  },
  {
   "cell_type": "markdown",
   "id": "13b0ca5a-c2ec-4fa6-8ec3-66e95760a1b1",
   "metadata": {},
   "source": [
    "### Question 6: Hyperparameter Tuning\n",
    "\n",
    "Now let's use 5-Fold cross-validation to find the best parameter `C`\n",
    "\n",
    "* Iterate over the following `C` values: `[0.000001, 0.001, 1]`\n",
    "* Initialize `KFold` with the same parameters as previously\n",
    "* Use these parameters for the model: `LogisticRegression(solver='liblinear', C=C, max_iter=1000)`\n",
    "* Compute the mean score as well as the std (round the mean and std to 3 decimal digits)\n",
    "\n",
    "Which `C` leads to the best mean score?\n",
    "\n",
    "- 0.000001\n",
    "- 0.001\n",
    "- 1\n",
    "\n",
    "If you have ties, select the score with the lowest std. If you still have ties, select the smallest `C`."
   ]
  },
  {
   "cell_type": "code",
   "execution_count": 22,
   "id": "e120aee7-a5b1-4dc6-88f5-f2eaa8d847a1",
   "metadata": {},
   "outputs": [
    {
     "name": "stdout",
     "output_type": "stream",
     "text": [
      "C=1e-06: Mean ROC AUC=0.560, STD ROC AUC=0.024\n",
      "C=0.001: Mean ROC AUC=0.867, STD ROC AUC=0.029\n",
      "C=1: Mean ROC AUC=0.822, STD ROC AUC=0.036\n",
      "Best C: 0.001\n"
     ]
    }
   ],
   "source": [
    "#use 5fold cross validation to find the best regularization parameter C for logistic regression from the list [0.000001, 0.001, 1]\n",
    "from sklearn.model_selection import KFold\n",
    "from sklearn.linear_model import LogisticRegression\n",
    "C_values = [0.000001, 0.001, 1]\n",
    "best_C = None\n",
    "best_mean_auc = 0\n",
    "for C in C_values:\n",
    "    auc_scores = []\n",
    "    kf = KFold(n_splits=5, shuffle=True, random_state=1)\n",
    "    for train_index, val_index in kf.split(df_full_train):\n",
    "        df_train_kf = df_full_train.iloc[train_index]\n",
    "        df_val_kf = df_full_train.iloc[val_index]\n",
    "        \n",
    "        y_train_kf = df_train_kf.converted.values\n",
    "        y_val_kf = df_val_kf.converted.values\n",
    "        \n",
    "        df_train_kf = df_train_kf.drop('converted', axis=1)\n",
    "        df_val_kf = df_val_kf.drop('converted', axis=1)\n",
    "        \n",
    "        train_dicts_kf = df_train_kf[features].to_dict(orient='records')\n",
    "        X_train_kf = dv.fit_transform(train_dicts_kf)\n",
    "        \n",
    "        lr = LogisticRegression(solver='liblinear', C=C, max_iter=1000)\n",
    "        lr.fit(X_train_kf, y_train_kf)\n",
    "        \n",
    "        val_dicts_kf = df_val_kf[features].to_dict(orient='records')\n",
    "        X_val_kf = dv.transform(val_dicts_kf)\n",
    "        \n",
    "        y_pred_kf = lr.predict_proba(X_val_kf)[:, 1]\n",
    "        \n",
    "        auc_kf = roc_auc_score(y_val_kf, y_pred_kf)\n",
    "        auc_scores.append(auc_kf)\n",
    "#find c value with the highest mean auc if ties chose one with lowest std\n",
    "    mean_auc = np.mean(auc_scores)\n",
    "    std_auc = np.std(auc_scores)\n",
    "    print(f'C={C}: Mean ROC AUC={mean_auc:.3f}, STD ROC AUC={std_auc:.3f}')\n",
    "    if mean_auc > best_mean_auc or (mean_auc == best_mean_auc and (best_C is None or std_auc < best_std_auc)):\n",
    "        best_mean_auc = mean_auc\n",
    "        best_std_auc = std_auc\n",
    "        best_C = C\n",
    "print(f'Best C: {best_C}')  "
   ]
  },
  {
   "cell_type": "markdown",
   "id": "6301206d-5af2-4297-bea7-db9c4dcd9586",
   "metadata": {},
   "source": [
    "## Submit the results\n",
    "\n",
    "* Submit your results here: https://courses.datatalks.club/ml-zoomcamp-2025/homework/hw04\n",
    "* If your answer doesn't match options exactly, select the closest one"
   ]
  }
 ],
 "metadata": {
  "kernelspec": {
   "display_name": "ven",
   "language": "python",
   "name": "python3"
  },
  "language_info": {
   "codemirror_mode": {
    "name": "ipython",
    "version": 3
   },
   "file_extension": ".py",
   "mimetype": "text/x-python",
   "name": "python",
   "nbconvert_exporter": "python",
   "pygments_lexer": "ipython3",
   "version": "3.12.1"
  }
 },
 "nbformat": 4,
 "nbformat_minor": 5
}
